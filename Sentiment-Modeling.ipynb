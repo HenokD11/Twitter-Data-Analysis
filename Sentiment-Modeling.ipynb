{
 "cells": [
  {
   "cell_type": "code",
   "execution_count": 138,
   "id": "8918f9b9",
   "metadata": {},
   "outputs": [],
   "source": [
    "import pandas as pd\n",
    "import tensorflow\n",
    "import tensorflow as tf\n",
    "import matplotlib.pyplot as plt\n",
    "from tensorflow.keras.layers import *\n",
    "from tensorflow.keras.models import *\n",
    "from keras.utils.vis_utils import plot_model\n",
    "from tensorflow.keras.utils import plot_model\n",
    "from sklearn.utils import shuffle\n",
    "from sklearn.metrics import confusion_matrix\n",
    "from sklearn.metrics import classification_report, accuracy_score, roc_auc_score\n",
    "from tensorflow.keras.preprocessing.text import Tokenizer\n",
    "from tensorflow.keras.preprocessing.sequence import pad_sequences\n",
    "from tensorflow.keras.models import Sequential\n",
    "from sklearn.model_selection import train_test_split\n",
    "from sklearn.feature_extraction.text import CountVectorizer, TfidfVectorizer, HashingVectorizer\n",
    "import numpy as np\n",
    "import pydot\n",
    "from tensorflow.keras.utils import to_categorical\n",
    "from sklearn.preprocessing import LabelEncoder\n",
    "#from sklearn.preprocessing import OrdinalEncoder"
   ]
  },
  {
   "cell_type": "code",
   "execution_count": 2,
   "id": "d04880aa",
   "metadata": {},
   "outputs": [],
   "source": [
    "data = pd.read_csv('csvfile_global_twitter_processed.csv')"
   ]
  },
  {
   "cell_type": "code",
   "execution_count": 3,
   "id": "4585a797",
   "metadata": {},
   "outputs": [
    {
     "data": {
      "text/html": [
       "<div>\n",
       "<style scoped>\n",
       "    .dataframe tbody tr th:only-of-type {\n",
       "        vertical-align: middle;\n",
       "    }\n",
       "\n",
       "    .dataframe tbody tr th {\n",
       "        vertical-align: top;\n",
       "    }\n",
       "\n",
       "    .dataframe thead th {\n",
       "        text-align: right;\n",
       "    }\n",
       "</style>\n",
       "<table border=\"1\" class=\"dataframe\">\n",
       "  <thead>\n",
       "    <tr style=\"text-align: right;\">\n",
       "      <th></th>\n",
       "      <th>created_at</th>\n",
       "      <th>id</th>\n",
       "      <th>id_str</th>\n",
       "      <th>original_text</th>\n",
       "      <th>truncated</th>\n",
       "      <th>display_text_range</th>\n",
       "      <th>entities</th>\n",
       "      <th>metadata</th>\n",
       "      <th>source</th>\n",
       "      <th>user</th>\n",
       "      <th>...</th>\n",
       "      <th>favorite_count</th>\n",
       "      <th>favorited</th>\n",
       "      <th>retweeted</th>\n",
       "      <th>lang</th>\n",
       "      <th>polarity</th>\n",
       "      <th>subjectivity</th>\n",
       "      <th>LENGTH</th>\n",
       "      <th>preprocessed</th>\n",
       "      <th>sentiment</th>\n",
       "      <th>clean</th>\n",
       "    </tr>\n",
       "  </thead>\n",
       "  <tbody>\n",
       "    <tr>\n",
       "      <th>0</th>\n",
       "      <td>2022-08-07 22:31:20+00:00</td>\n",
       "      <td>1556407673284861952</td>\n",
       "      <td>1556407673284861952</td>\n",
       "      <td>RT @i_ameztoy: Extra random image (I):\\n\\nLets...</td>\n",
       "      <td>False</td>\n",
       "      <td>[0, 143]</td>\n",
       "      <td>{'hashtags': [{'text': 'City', 'indices': [132...</td>\n",
       "      <td>{'iso_language_code': 'en', 'result_type': 're...</td>\n",
       "      <td>&lt;a href=\"http://twitter.com/download/android\" ...</td>\n",
       "      <td>{'id': 3418339671, 'id_str': '3418339671', 'na...</td>\n",
       "      <td>...</td>\n",
       "      <td>0</td>\n",
       "      <td>False</td>\n",
       "      <td>False</td>\n",
       "      <td>en</td>\n",
       "      <td>-1.250000e-01</td>\n",
       "      <td>0.190625</td>\n",
       "      <td>23</td>\n",
       "      <td>rt iameztoy extra random imag let focu one spe...</td>\n",
       "      <td>negative</td>\n",
       "      <td>rt iameztoy extra random imag let focu one spe...</td>\n",
       "    </tr>\n",
       "    <tr>\n",
       "      <th>1</th>\n",
       "      <td>2022-08-07 22:31:16+00:00</td>\n",
       "      <td>1556407654373027840</td>\n",
       "      <td>1556407654373027840</td>\n",
       "      <td>RT @IndoPac_Info: #China's media explains the ...</td>\n",
       "      <td>False</td>\n",
       "      <td>[0, 140]</td>\n",
       "      <td>{'hashtags': [{'text': 'China', 'indices': [18...</td>\n",
       "      <td>{'iso_language_code': 'en', 'result_type': 're...</td>\n",
       "      <td>&lt;a href=\"http://twitter.com/download/android\" ...</td>\n",
       "      <td>{'id': 1003562923, 'id_str': '1003562923', 'na...</td>\n",
       "      <td>...</td>\n",
       "      <td>0</td>\n",
       "      <td>False</td>\n",
       "      <td>False</td>\n",
       "      <td>en</td>\n",
       "      <td>-1.000000e-01</td>\n",
       "      <td>0.100000</td>\n",
       "      <td>24</td>\n",
       "      <td>rt indopacinfo china medium explain militari r...</td>\n",
       "      <td>negative</td>\n",
       "      <td>rt indopacinfo china medium explain militari r...</td>\n",
       "    </tr>\n",
       "    <tr>\n",
       "      <th>2</th>\n",
       "      <td>2022-08-07 22:31:07+00:00</td>\n",
       "      <td>1556407616208773122</td>\n",
       "      <td>1556407616208773120</td>\n",
       "      <td>China even cut off communication, they don't a...</td>\n",
       "      <td>False</td>\n",
       "      <td>[0, 161]</td>\n",
       "      <td>{'hashtags': [{'text': 'XiJinping', 'indices':...</td>\n",
       "      <td>{'iso_language_code': 'en', 'result_type': 're...</td>\n",
       "      <td>&lt;a href=\"http://twitter.com/download/android\" ...</td>\n",
       "      <td>{'id': 1132320481506406400, 'id_str': '1132320...</td>\n",
       "      <td>...</td>\n",
       "      <td>0</td>\n",
       "      <td>False</td>\n",
       "      <td>False</td>\n",
       "      <td>en</td>\n",
       "      <td>0.000000e+00</td>\n",
       "      <td>0.000000</td>\n",
       "      <td>26</td>\n",
       "      <td>china even cut commun dont anwer phonecal u cl...</td>\n",
       "      <td>neutral</td>\n",
       "      <td>china even cut commun dont anwer phonecal u cl...</td>\n",
       "    </tr>\n",
       "    <tr>\n",
       "      <th>3</th>\n",
       "      <td>2022-08-07 22:31:06+00:00</td>\n",
       "      <td>1556407614602461185</td>\n",
       "      <td>1556407614602461184</td>\n",
       "      <td>Putin to #XiJinping : I told you my friend, Ta...</td>\n",
       "      <td>False</td>\n",
       "      <td>[0, 179]</td>\n",
       "      <td>{'hashtags': [{'text': 'XiJinping', 'indices':...</td>\n",
       "      <td>{'iso_language_code': 'en', 'result_type': 're...</td>\n",
       "      <td>&lt;a href=\"http://twitter.com/download/android\" ...</td>\n",
       "      <td>{'id': 1132320481506406400, 'id_str': '1132320...</td>\n",
       "      <td>...</td>\n",
       "      <td>0</td>\n",
       "      <td>False</td>\n",
       "      <td>False</td>\n",
       "      <td>en</td>\n",
       "      <td>1.000000e-01</td>\n",
       "      <td>0.350000</td>\n",
       "      <td>33</td>\n",
       "      <td>putin xijinp tell friend taiwan vassal state i...</td>\n",
       "      <td>positive</td>\n",
       "      <td>putin xijinp tell friend taiwan vassal state i...</td>\n",
       "    </tr>\n",
       "    <tr>\n",
       "      <th>4</th>\n",
       "      <td>2022-08-07 22:31:04+00:00</td>\n",
       "      <td>1556407604238245889</td>\n",
       "      <td>1556407604238245888</td>\n",
       "      <td>RT @ChinaUncensored: I’m sorry, I thought Taiw...</td>\n",
       "      <td>False</td>\n",
       "      <td>[0, 140]</td>\n",
       "      <td>{'hashtags': [], 'symbols': [], 'user_mentions...</td>\n",
       "      <td>{'iso_language_code': 'en', 'result_type': 're...</td>\n",
       "      <td>&lt;a href=\"http://twitter.com/download/iphone\" r...</td>\n",
       "      <td>{'id': 1260798065373523969, 'id_str': '1260798...</td>\n",
       "      <td>...</td>\n",
       "      <td>0</td>\n",
       "      <td>False</td>\n",
       "      <td>False</td>\n",
       "      <td>en</td>\n",
       "      <td>-6.938894e-18</td>\n",
       "      <td>0.556250</td>\n",
       "      <td>21</td>\n",
       "      <td>rt chinauncensor i’m sorri think taiwan indepe...</td>\n",
       "      <td>negative</td>\n",
       "      <td>rt chinauncensor i’m sorri think taiwan indepe...</td>\n",
       "    </tr>\n",
       "  </tbody>\n",
       "</table>\n",
       "<p>5 rows × 22 columns</p>\n",
       "</div>"
      ],
      "text/plain": [
       "                  created_at                   id               id_str  \\\n",
       "0  2022-08-07 22:31:20+00:00  1556407673284861952  1556407673284861952   \n",
       "1  2022-08-07 22:31:16+00:00  1556407654373027840  1556407654373027840   \n",
       "2  2022-08-07 22:31:07+00:00  1556407616208773122  1556407616208773120   \n",
       "3  2022-08-07 22:31:06+00:00  1556407614602461185  1556407614602461184   \n",
       "4  2022-08-07 22:31:04+00:00  1556407604238245889  1556407604238245888   \n",
       "\n",
       "                                       original_text  truncated  \\\n",
       "0  RT @i_ameztoy: Extra random image (I):\\n\\nLets...      False   \n",
       "1  RT @IndoPac_Info: #China's media explains the ...      False   \n",
       "2  China even cut off communication, they don't a...      False   \n",
       "3  Putin to #XiJinping : I told you my friend, Ta...      False   \n",
       "4  RT @ChinaUncensored: I’m sorry, I thought Taiw...      False   \n",
       "\n",
       "  display_text_range                                           entities  \\\n",
       "0           [0, 143]  {'hashtags': [{'text': 'City', 'indices': [132...   \n",
       "1           [0, 140]  {'hashtags': [{'text': 'China', 'indices': [18...   \n",
       "2           [0, 161]  {'hashtags': [{'text': 'XiJinping', 'indices':...   \n",
       "3           [0, 179]  {'hashtags': [{'text': 'XiJinping', 'indices':...   \n",
       "4           [0, 140]  {'hashtags': [], 'symbols': [], 'user_mentions...   \n",
       "\n",
       "                                            metadata  \\\n",
       "0  {'iso_language_code': 'en', 'result_type': 're...   \n",
       "1  {'iso_language_code': 'en', 'result_type': 're...   \n",
       "2  {'iso_language_code': 'en', 'result_type': 're...   \n",
       "3  {'iso_language_code': 'en', 'result_type': 're...   \n",
       "4  {'iso_language_code': 'en', 'result_type': 're...   \n",
       "\n",
       "                                              source  \\\n",
       "0  <a href=\"http://twitter.com/download/android\" ...   \n",
       "1  <a href=\"http://twitter.com/download/android\" ...   \n",
       "2  <a href=\"http://twitter.com/download/android\" ...   \n",
       "3  <a href=\"http://twitter.com/download/android\" ...   \n",
       "4  <a href=\"http://twitter.com/download/iphone\" r...   \n",
       "\n",
       "                                                user  ...  favorite_count  \\\n",
       "0  {'id': 3418339671, 'id_str': '3418339671', 'na...  ...               0   \n",
       "1  {'id': 1003562923, 'id_str': '1003562923', 'na...  ...               0   \n",
       "2  {'id': 1132320481506406400, 'id_str': '1132320...  ...               0   \n",
       "3  {'id': 1132320481506406400, 'id_str': '1132320...  ...               0   \n",
       "4  {'id': 1260798065373523969, 'id_str': '1260798...  ...               0   \n",
       "\n",
       "   favorited  retweeted  lang      polarity subjectivity  LENGTH  \\\n",
       "0      False      False    en -1.250000e-01     0.190625      23   \n",
       "1      False      False    en -1.000000e-01     0.100000      24   \n",
       "2      False      False    en  0.000000e+00     0.000000      26   \n",
       "3      False      False    en  1.000000e-01     0.350000      33   \n",
       "4      False      False    en -6.938894e-18     0.556250      21   \n",
       "\n",
       "                                        preprocessed  sentiment  \\\n",
       "0  rt iameztoy extra random imag let focu one spe...   negative   \n",
       "1  rt indopacinfo china medium explain militari r...   negative   \n",
       "2  china even cut commun dont anwer phonecal u cl...    neutral   \n",
       "3  putin xijinp tell friend taiwan vassal state i...   positive   \n",
       "4  rt chinauncensor i’m sorri think taiwan indepe...   negative   \n",
       "\n",
       "                                               clean  \n",
       "0  rt iameztoy extra random imag let focu one spe...  \n",
       "1  rt indopacinfo china medium explain militari r...  \n",
       "2  china even cut commun dont anwer phonecal u cl...  \n",
       "3  putin xijinp tell friend taiwan vassal state i...  \n",
       "4  rt chinauncensor i’m sorri think taiwan indepe...  \n",
       "\n",
       "[5 rows x 22 columns]"
      ]
     },
     "execution_count": 3,
     "metadata": {},
     "output_type": "execute_result"
    }
   ],
   "source": [
    "data.head()"
   ]
  },
  {
   "cell_type": "code",
   "execution_count": null,
   "id": "03816cff",
   "metadata": {},
   "outputs": [],
   "source": []
  },
  {
   "cell_type": "code",
   "execution_count": 99,
   "id": "3b356d13",
   "metadata": {},
   "outputs": [],
   "source": [
    "X = data['clean']\n",
    "y = data['sentiment']"
   ]
  },
  {
   "cell_type": "code",
   "execution_count": null,
   "id": "21a41b06",
   "metadata": {},
   "outputs": [],
   "source": []
  },
  {
   "cell_type": "code",
   "execution_count": 100,
   "id": "be3e7554",
   "metadata": {},
   "outputs": [
    {
     "name": "stdout",
     "output_type": "stream",
     "text": [
      "\n",
      "\n",
      "Classes:  ['negative' 'neutral' 'positive']\n",
      "\n",
      "Number of One Hot encoded class labels train:  3\n"
     ]
    }
   ],
   "source": [
    "# Encode labels and create classes\n",
    "\n",
    "le = LabelEncoder()\n",
    "le.fit(data['sentiment'])\n",
    "label_encoded_train = le.transform(data['sentiment'])\n",
    "print(\"\\n\\nClasses: \", le.classes_)\n",
    "\n",
    "# Convert labels into categorical values\n",
    "label_onehot_train = to_categorical(label_encoded_train)\n",
    "print(\"\\nNumber of One Hot encoded class labels train: \", label_onehot_train.shape[1])"
   ]
  },
  {
   "cell_type": "code",
   "execution_count": null,
   "id": "6e1a31d1",
   "metadata": {},
   "outputs": [],
   "source": []
  },
  {
   "cell_type": "code",
   "execution_count": 101,
   "id": "c94978cd",
   "metadata": {},
   "outputs": [
    {
     "name": "stdout",
     "output_type": "stream",
     "text": [
      "Wall time: 0 ns\n"
     ]
    }
   ],
   "source": [
    "%time\n",
    "\n",
    "SEED = 42\n",
    "from sklearn.model_selection import train_test_split\n",
    "X_train, X_test , y_train, y_test = train_test_split(data['clean'], label_onehot_train, random_state = SEED, stratify=label_encoded_train, test_size = 0.12)\n",
    "\n",
    "#x_val, x_test, y_val, y_test = train_test_split(\n",
    "#    X_test, y_test, test_size=.4, stratify= y_test, random_state=SEED)"
   ]
  },
  {
   "cell_type": "code",
   "execution_count": null,
   "id": "9f7561cf",
   "metadata": {},
   "outputs": [],
   "source": []
  },
  {
   "cell_type": "code",
   "execution_count": 102,
   "id": "b29d28bc",
   "metadata": {},
   "outputs": [
    {
     "data": {
      "text/plain": [
       "(((19360,), (19360, 3)), ((2640,), (2640, 3)))"
      ]
     },
     "execution_count": 102,
     "metadata": {},
     "output_type": "execute_result"
    }
   ],
   "source": [
    "(X_train.shape, y_train.shape),(X_test.shape, y_test.shape)"
   ]
  },
  {
   "cell_type": "code",
   "execution_count": null,
   "id": "c5e3e6be",
   "metadata": {},
   "outputs": [],
   "source": []
  },
  {
   "cell_type": "code",
   "execution_count": 103,
   "id": "4e2b046c",
   "metadata": {},
   "outputs": [],
   "source": [
    "vocab_size = 30000\n",
    "#vocab_size = len(word_index) + 1\n",
    "# len(word_index) + 1\n",
    "oov_token = \"<OOV>\"\n",
    "max_length = 40\n",
    "dim = 200\n",
    "padding_type = \"post\"\n",
    "trunction_type=\"post\""
   ]
  },
  {
   "cell_type": "code",
   "execution_count": null,
   "id": "cb20f4e3",
   "metadata": {},
   "outputs": [],
   "source": []
  },
  {
   "cell_type": "code",
   "execution_count": 104,
   "id": "c1f851bb",
   "metadata": {},
   "outputs": [],
   "source": [
    "tokenizer = Tokenizer(num_words = vocab_size, oov_token=oov_token, split=' ', filters=' ')\n",
    "tokenizer.fit_on_texts(X_train)"
   ]
  },
  {
   "cell_type": "code",
   "execution_count": null,
   "id": "c8e20fae",
   "metadata": {},
   "outputs": [],
   "source": []
  },
  {
   "cell_type": "code",
   "execution_count": 105,
   "id": "45502fbf",
   "metadata": {},
   "outputs": [],
   "source": [
    "word_index = tokenizer.word_index"
   ]
  },
  {
   "cell_type": "code",
   "execution_count": null,
   "id": "cf132f7f",
   "metadata": {},
   "outputs": [],
   "source": []
  },
  {
   "cell_type": "code",
   "execution_count": 106,
   "id": "e7fb0509",
   "metadata": {},
   "outputs": [
    {
     "data": {
      "text/plain": [
       "19360"
      ]
     },
     "execution_count": 106,
     "metadata": {},
     "output_type": "execute_result"
    }
   ],
   "source": [
    "X_train_sequences = tokenizer.texts_to_sequences(X_train)\n",
    "len(X_train_sequences)"
   ]
  },
  {
   "cell_type": "code",
   "execution_count": null,
   "id": "ae75579f",
   "metadata": {},
   "outputs": [],
   "source": []
  },
  {
   "cell_type": "code",
   "execution_count": 107,
   "id": "b26915a9",
   "metadata": {},
   "outputs": [
    {
     "data": {
      "text/plain": [
       "76"
      ]
     },
     "execution_count": 107,
     "metadata": {},
     "output_type": "execute_result"
    }
   ],
   "source": [
    "# Get max training sequence length\n",
    "maxlen = max([len(x) for x in X_train_sequences])\n",
    "maxlen"
   ]
  },
  {
   "cell_type": "code",
   "execution_count": null,
   "id": "7bcf773d",
   "metadata": {},
   "outputs": [],
   "source": []
  },
  {
   "cell_type": "code",
   "execution_count": 108,
   "id": "ac59536f",
   "metadata": {},
   "outputs": [],
   "source": [
    "X_train_padded = pad_sequences(X_train_sequences,maxlen=max_length, padding=padding_type, \n",
    "                       truncating=trunction_type)"
   ]
  },
  {
   "cell_type": "code",
   "execution_count": null,
   "id": "a2236b55",
   "metadata": {},
   "outputs": [],
   "source": []
  },
  {
   "cell_type": "code",
   "execution_count": 109,
   "id": "d0eea3dd",
   "metadata": {},
   "outputs": [],
   "source": [
    "X_test_sequences = tokenizer.texts_to_sequences(X_test)\n",
    "X_test_padded = pad_sequences(X_test_sequences,maxlen=max_length, \n",
    "                               padding=padding_type, truncating=trunction_type)"
   ]
  },
  {
   "cell_type": "code",
   "execution_count": null,
   "id": "fb50ec50",
   "metadata": {},
   "outputs": [],
   "source": []
  },
  {
   "cell_type": "code",
   "execution_count": 110,
   "id": "f4be1780",
   "metadata": {},
   "outputs": [
    {
     "data": {
      "text/plain": [
       "(((19360, 40), (19360, 3)), ((2640, 40), (2640, 3)))"
      ]
     },
     "execution_count": 110,
     "metadata": {},
     "output_type": "execute_result"
    }
   ],
   "source": [
    "(X_train_padded.shape, y_train.shape),(X_test_padded.shape, y_test.shape)"
   ]
  },
  {
   "cell_type": "code",
   "execution_count": null,
   "id": "ff77d7b0",
   "metadata": {},
   "outputs": [],
   "source": []
  },
  {
   "cell_type": "code",
   "execution_count": 111,
   "id": "15d75a27",
   "metadata": {},
   "outputs": [
    {
     "name": "stdout",
     "output_type": "stream",
     "text": [
      "16245\n"
     ]
    }
   ],
   "source": [
    "num_words = min(vocab_size, len(word_index)) + 1\n",
    "print(num_words)"
   ]
  },
  {
   "cell_type": "code",
   "execution_count": null,
   "id": "0a511395",
   "metadata": {},
   "outputs": [],
   "source": []
  },
  {
   "cell_type": "code",
   "execution_count": 112,
   "id": "65138802",
   "metadata": {},
   "outputs": [
    {
     "name": "stdout",
     "output_type": "stream",
     "text": [
      "Loading glove word vectors ...\n",
      "Loaded 400000 glove word vectors.\n",
      "\n",
      "Mapping words to glove embeddings ...\n",
      "Converted 5624 words (10620 misses)\n",
      "Shape of Embedding Matrix:  (16245, 200)\n",
      "glove Mapping done.\n"
     ]
    }
   ],
   "source": [
    "# Load glove embeddings\n",
    "hits = 0\n",
    "misses = 0\n",
    "print('Loading glove word vectors ...')\n",
    "embeddings_index = dict()\n",
    "\n",
    "try:\n",
    "    f = open('data/glove.6B.200d.txt', encoding='utf-8')\n",
    "    for line in f:\n",
    "        values = line.split()\n",
    "        word = values[0]\n",
    "        coefs = np.asarray(values[1:], dtype='float32')\n",
    "        embeddings_index[word] = coefs\n",
    "except Exception as e:\n",
    "    print('Stacktrace', e)\n",
    "    print('glove file does not exist.')\n",
    "finally:\n",
    "    f.close()\n",
    "\n",
    "print('Loaded %s glove word vectors.' % len(embeddings_index))\n",
    "\n",
    "\n",
    "# Create a weight matrix for all the words\n",
    "\n",
    "print('\\nMapping words to glove embeddings ...')\n",
    "embedding_matrix = np.zeros((num_words, dim))\n",
    "\n",
    "for word, index in tokenizer.word_index.items():\n",
    "    if index > vocab_size - 1:\n",
    "        break\n",
    "    else:\n",
    "        embedding_vector = embeddings_index.get(word)\n",
    "        if embedding_vector is not None:\n",
    "            embedding_matrix[index] = embedding_vector\n",
    "            hits += 1\n",
    "        else:\n",
    "            misses += 1\n",
    "print(\"Converted %d words (%d misses)\" % (hits, misses))\n",
    "\n",
    "print('Shape of Embedding Matrix: ', embedding_matrix.shape)\n",
    "print('glove Mapping done.')"
   ]
  },
  {
   "cell_type": "code",
   "execution_count": null,
   "id": "2573cbde",
   "metadata": {},
   "outputs": [],
   "source": []
  },
  {
   "cell_type": "code",
   "execution_count": 113,
   "id": "9e1308fd",
   "metadata": {},
   "outputs": [
    {
     "data": {
      "text/plain": [
       "(16245, 200)"
      ]
     },
     "execution_count": 113,
     "metadata": {},
     "output_type": "execute_result"
    }
   ],
   "source": [
    "embedding_matrix.shape"
   ]
  },
  {
   "cell_type": "code",
   "execution_count": 114,
   "id": "674a24ce",
   "metadata": {},
   "outputs": [
    {
     "data": {
      "text/plain": [
       "16244"
      ]
     },
     "execution_count": 114,
     "metadata": {},
     "output_type": "execute_result"
    }
   ],
   "source": [
    "len(word_index)"
   ]
  },
  {
   "cell_type": "code",
   "execution_count": 115,
   "id": "676146fd",
   "metadata": {},
   "outputs": [
    {
     "data": {
      "text/plain": [
       "array([ 0.14802  ,  0.018174 , -0.079296 , -0.65311  , -0.50593  ,\n",
       "       -0.16365  ,  0.091    ,  0.87207  ,  0.42749  ,  0.44687  ,\n",
       "        0.027586 ,  0.66256  , -0.11676  , -0.54934  , -0.33345  ,\n",
       "        0.12273  , -0.14677  , -0.67266  , -0.38841  , -0.50951  ,\n",
       "        0.25709  ,  0.62525  , -0.48971  ,  0.038238 ,  0.27801  ,\n",
       "        0.066046 , -0.24887  , -0.62144  ,  0.11811  ,  0.14869  ,\n",
       "       -0.49203  , -0.49615  ,  0.61249  ,  0.60299  , -0.73105  ,\n",
       "        0.18087  , -0.23041  , -0.6218   ,  0.44788  , -0.1374   ,\n",
       "       -0.28252  ,  0.40837  ,  0.2816   ,  0.1401   , -0.41043  ,\n",
       "       -0.28187  , -0.198    ,  0.25354  , -0.64488  ,  0.11146  ,\n",
       "        0.93601  , -0.35285  ,  0.76951  ,  0.12367  ,  0.35222  ,\n",
       "        0.42206  ,  0.33324  , -0.43543  , -0.30755  , -0.027056 ,\n",
       "        0.76662  , -0.22356  ,  0.80341  ,  0.13955  ,  0.48534  ,\n",
       "       -0.653    , -0.62314  ,  0.34143  ,  0.64893  ,  0.13789  ,\n",
       "       -0.15139  ,  0.073464 , -0.14872  , -0.32428  ,  0.31919  ,\n",
       "       -0.1249   , -0.89625  , -0.26671  ,  0.7684   ,  0.42562  ,\n",
       "        0.33858  , -0.051844 ,  0.086721 ,  0.56871  ,  0.19946  ,\n",
       "       -0.68726  , -0.12529  , -0.093754 ,  0.04181  , -0.89767  ,\n",
       "       -0.080569 , -0.21     , -0.51491  , -0.74369  , -0.72805  ,\n",
       "        0.61517  ,  0.32868  ,  0.58149  ,  0.092132 ,  0.35733  ,\n",
       "        0.14034  , -0.67875  , -0.29891  , -0.38364  ,  0.1179   ,\n",
       "       -0.60237  ,  0.010033 ,  0.6398   ,  0.4274   , -0.34623  ,\n",
       "        0.1544   ,  0.16554  ,  0.23532  , -0.14071  , -0.018205 ,\n",
       "       -0.81463  , -0.28297  , -0.025414 ,  0.16112  ,  0.64308  ,\n",
       "        0.46608  , -0.44649  , -0.25763  , -0.95785  ,  1.0061   ,\n",
       "        0.4152   , -0.016738 ,  0.16996  ,  0.38637  ,  0.47558  ,\n",
       "        0.24638  ,  0.012322 , -0.37629  ,  0.24107  ,  0.37976  ,\n",
       "        0.060658 ,  0.075786 , -0.17262  , -0.27821  ,  0.32208  ,\n",
       "       -0.17267  ,  0.31071  , -0.4912   , -0.060518 ,  0.52299  ,\n",
       "        0.44216  ,  0.54334  ,  0.03843  , -0.3551   ,  0.024567 ,\n",
       "       -0.89405  ,  0.51212  ,  0.34815  , -0.13454  ,  0.28856  ,\n",
       "        0.077729 ,  0.31579  ,  0.24025  ,  0.0064175, -0.21017  ,\n",
       "       -0.30101  ,  0.074268 , -0.53227  ,  0.032279 , -0.10541  ,\n",
       "       -0.098546 , -0.0069621, -0.74954  , -0.039405 , -0.3797   ,\n",
       "       -0.0014988, -0.17764  ,  0.76178  ,  0.21133  , -0.81539  ,\n",
       "        0.052318 , -0.52004  , -0.57233  ,  0.070969 , -0.68018  ,\n",
       "       -0.030907 ,  0.19043  ,  0.46538  , -0.47567  , -0.18585  ,\n",
       "        0.11106  ,  0.22684  , -0.086143 ,  0.35975  ,  0.22053  ,\n",
       "       -0.45079  , -0.9547   , -0.51236  ,  0.32916  , -0.16833  ,\n",
       "        0.28326  , -0.66262  , -0.15783  ,  0.1308   , -0.028382 ],\n",
       "      dtype=float32)"
      ]
     },
     "execution_count": 115,
     "metadata": {},
     "output_type": "execute_result"
    }
   ],
   "source": [
    "embeddings_index.get('pelosi')"
   ]
  },
  {
   "cell_type": "code",
   "execution_count": null,
   "id": "d5247035",
   "metadata": {},
   "outputs": [],
   "source": []
  },
  {
   "cell_type": "markdown",
   "id": "a6429d5d",
   "metadata": {},
   "source": [
    "### Creating the keras Embedding layer"
   ]
  },
  {
   "cell_type": "code",
   "execution_count": 116,
   "id": "5c2db8b0",
   "metadata": {},
   "outputs": [],
   "source": [
    "import keras"
   ]
  },
  {
   "cell_type": "code",
   "execution_count": 117,
   "id": "6887fe07",
   "metadata": {},
   "outputs": [],
   "source": [
    "METRICS = [\n",
    "      keras.metrics.TruePositives(name='tp'),\n",
    "      keras.metrics.FalsePositives(name='fp'),\n",
    "      keras.metrics.TrueNegatives(name='tn'),\n",
    "      keras.metrics.FalseNegatives(name='fn'), \n",
    "      keras.metrics.SparseCategoricalAccuracy(name='accuracy'),\n",
    "      keras.metrics.Precision(name='precision'),\n",
    "      keras.metrics.Recall(name='recall'),\n",
    "      keras.metrics.AUC(name='auc'),\n",
    "]"
   ]
  },
  {
   "cell_type": "code",
   "execution_count": null,
   "id": "c7ea21b2",
   "metadata": {},
   "outputs": [],
   "source": []
  },
  {
   "cell_type": "code",
   "execution_count": 118,
   "id": "b3a3eda8",
   "metadata": {},
   "outputs": [],
   "source": [
    "import time\n",
    "from tensorflow.keras.callbacks import TensorBoard\n",
    "\n",
    "early_stopping = keras.callbacks.EarlyStopping(\n",
    "    monitor='val_loss', \n",
    "    verbose=1,\n",
    "    patience=10,\n",
    "    mode='max',\n",
    "    restore_best_weights=True)\n",
    "\n",
    "#tb_callback = tf.keras.callbacks.TensorBoard(log_dir = DIR_MODELS + '/to/logs')\n",
    "NAME = 'SENTIMENT_CNNBiLSTM_MODEL'\n",
    "\n",
    "tensorboard = TensorBoard(log_dir=\"logs/{}\".format(NAME))\n"
   ]
  },
  {
   "cell_type": "code",
   "execution_count": null,
   "id": "164b8ca4",
   "metadata": {},
   "outputs": [],
   "source": []
  },
  {
   "cell_type": "code",
   "execution_count": 119,
   "id": "527c0597",
   "metadata": {},
   "outputs": [],
   "source": [
    "from tensorflow.keras.callbacks import ReduceLROnPlateau\n",
    "reduce_lr = ReduceLROnPlateau(monitor='val_loss', factor=0.2, patience=5, min_lr=0.001)\n",
    "\n",
    "lr = (ReduceLROnPlateau(monitor='val_loss',factor=.4, patience=3, min_lr = .0005))"
   ]
  },
  {
   "cell_type": "code",
   "execution_count": null,
   "id": "ced985c0",
   "metadata": {},
   "outputs": [],
   "source": []
  },
  {
   "cell_type": "code",
   "execution_count": 120,
   "id": "616eba89",
   "metadata": {},
   "outputs": [
    {
     "ename": "TypeError",
     "evalue": "compute_class_weight() takes 1 positional argument but 3 were given",
     "output_type": "error",
     "traceback": [
      "\u001b[1;31m---------------------------------------------------------------------------\u001b[0m",
      "\u001b[1;31mTypeError\u001b[0m                                 Traceback (most recent call last)",
      "\u001b[1;32m~\\AppData\\Local\\Temp/ipykernel_28084/2063995549.py\u001b[0m in \u001b[0;36m<module>\u001b[1;34m\u001b[0m\n\u001b[0;32m      2\u001b[0m class_weights = list(class_weight.compute_class_weight('balanced',\n\u001b[0;32m      3\u001b[0m                                              \u001b[0mnp\u001b[0m\u001b[1;33m.\u001b[0m\u001b[0munique\u001b[0m\u001b[1;33m(\u001b[0m\u001b[0mdata\u001b[0m\u001b[1;33m[\u001b[0m\u001b[1;34m'sentiment'\u001b[0m\u001b[1;33m]\u001b[0m\u001b[1;33m)\u001b[0m\u001b[1;33m,\u001b[0m\u001b[1;33m\u001b[0m\u001b[1;33m\u001b[0m\u001b[0m\n\u001b[1;32m----> 4\u001b[1;33m                                              data['sentiment']))\n\u001b[0m\u001b[0;32m      5\u001b[0m \u001b[1;33m\u001b[0m\u001b[0m\n\u001b[0;32m      6\u001b[0m \u001b[0mweights\u001b[0m\u001b[1;33m=\u001b[0m\u001b[1;33m{\u001b[0m\u001b[1;33m}\u001b[0m\u001b[1;33m\u001b[0m\u001b[1;33m\u001b[0m\u001b[0m\n",
      "\u001b[1;31mTypeError\u001b[0m: compute_class_weight() takes 1 positional argument but 3 were given"
     ]
    }
   ],
   "source": [
    "from sklearn.utils import class_weight\n",
    "class_weights = list(class_weight.compute_class_weight('balanced',\n",
    "                                             np.unique(data['sentiment']),\n",
    "                                             data['sentiment']))\n",
    "\n",
    "weights={}\n",
    "for index, weight in enumerate(class_weights):\n",
    "    weights[index]=weight\n",
    "weights"
   ]
  },
  {
   "cell_type": "code",
   "execution_count": null,
   "id": "8b4fdb05",
   "metadata": {},
   "outputs": [],
   "source": []
  },
  {
   "cell_type": "markdown",
   "id": "b1f2e9e1",
   "metadata": {},
   "source": [
    "### CNN-BiLSTM Model"
   ]
  },
  {
   "cell_type": "code",
   "execution_count": 129,
   "id": "4bf356c1",
   "metadata": {},
   "outputs": [],
   "source": [
    "def get_lstm_cnn_model():\n",
    "    embedding_dim = 200\n",
    "    inp = tf.keras.layers.Input(shape=(max_length, ))\n",
    "    x = Embedding(num_words, embedding_dim, weights=[embedding_matrix], input_length=max_length, trainable=False , mask_zero = True)(inp)\n",
    "    x = SpatialDropout1D(0.2)(x)\n",
    "    \n",
    "    x = Bidirectional(LSTM(256, return_sequences=True))(x)\n",
    "    \n",
    "    x = Conv1D(128, kernel_size = 2, padding = \"valid\", kernel_initializer = \"he_uniform\")(x)\n",
    "    x = Conv1D(128, kernel_size = 3, padding = \"valid\", kernel_initializer = \"he_uniform\")(x)\n",
    "    x = Conv1D(128, kernel_size = 4, padding = \"valid\", kernel_initializer = \"he_uniform\")(x)\n",
    "    #x = Conv1D(64, kernel_size = 4, padding = \"valid\", kernel_initializer = \"he_uniform\")(x)\n",
    "    \n",
    "    avg_pool = GlobalAveragePooling1D()(x)\n",
    "    max_pool = GlobalMaxPooling1D()(x)\n",
    "    \n",
    "    conc = tf.keras.layers.concatenate([avg_pool, max_pool])\n",
    "    \n",
    "    dense = Dense(128, activation=\"relu\")(conc)\n",
    "    \n",
    "    outp = Dense(3, activation=\"softmax\")(dense)\n",
    "    \n",
    "    model = Model(inputs=inp, outputs=outp)\n",
    "    \n",
    "    adam = tf.keras.optimizers.Adam(lr=1e-3)\n",
    "    model.compile(loss='categorical_crossentropy', optimizer=adam, metrics=['accuracy'])\n",
    "    return model\n",
    "\n",
    "# Create the model\n",
    "\n",
    "lstm_cnn_model = get_lstm_cnn_model()\n",
    "\n",
    "# plot_model(lstm_cnn_model, to_file='/lstm_cnn_model.png',  show_shapes=True, show_layer_names=True)\n"
   ]
  },
  {
   "cell_type": "code",
   "execution_count": null,
   "id": "c347a349",
   "metadata": {},
   "outputs": [],
   "source": []
  },
  {
   "cell_type": "code",
   "execution_count": 131,
   "id": "808cdc56",
   "metadata": {},
   "outputs": [
    {
     "name": "stdout",
     "output_type": "stream",
     "text": [
      "Epoch 1/10\n",
      "129/129 [==============================] - 73s 567ms/step - loss: 0.2244 - accuracy: 0.9128 - val_loss: 0.3179 - val_accuracy: 0.8836\n",
      "Epoch 2/10\n",
      "129/129 [==============================] - 78s 604ms/step - loss: 0.1800 - accuracy: 0.9305 - val_loss: 0.3002 - val_accuracy: 0.8891\n",
      "Epoch 3/10\n",
      "129/129 [==============================] - 74s 577ms/step - loss: 0.1480 - accuracy: 0.9429 - val_loss: 0.3063 - val_accuracy: 0.8988\n",
      "Epoch 4/10\n",
      "129/129 [==============================] - 88s 681ms/step - loss: 0.1179 - accuracy: 0.9553 - val_loss: 0.3694 - val_accuracy: 0.8929\n",
      "Epoch 5/10\n",
      "129/129 [==============================] - 92s 711ms/step - loss: 0.1036 - accuracy: 0.9614 - val_loss: 0.3346 - val_accuracy: 0.8994\n",
      "Epoch 6/10\n",
      "129/129 [==============================] - 71s 550ms/step - loss: 0.0870 - accuracy: 0.9686 - val_loss: 0.3382 - val_accuracy: 0.9012\n",
      "Epoch 7/10\n",
      "129/129 [==============================] - 77s 597ms/step - loss: 0.0712 - accuracy: 0.9756 - val_loss: 0.3798 - val_accuracy: 0.9032\n",
      "Epoch 8/10\n",
      "129/129 [==============================] - 86s 669ms/step - loss: 0.0588 - accuracy: 0.9794 - val_loss: 0.3984 - val_accuracy: 0.8960\n",
      "Epoch 9/10\n",
      "129/129 [==============================] - 81s 625ms/step - loss: 0.0557 - accuracy: 0.9801 - val_loss: 0.3983 - val_accuracy: 0.8981\n",
      "Epoch 10/10\n",
      "129/129 [==============================] - 71s 551ms/step - loss: 0.0539 - accuracy: 0.9816 - val_loss: 0.4008 - val_accuracy: 0.9029\n"
     ]
    }
   ],
   "source": [
    "history = lstm_cnn_model.fit(x=X_train_padded, y=y_train, validation_split = 0.15, batch_size=128, epochs=10, verbose=1)"
   ]
  },
  {
   "cell_type": "code",
   "execution_count": null,
   "id": "bb1504dd",
   "metadata": {},
   "outputs": [],
   "source": []
  },
  {
   "cell_type": "code",
   "execution_count": 132,
   "id": "bde8527c",
   "metadata": {},
   "outputs": [
    {
     "name": "stdout",
     "output_type": "stream",
     "text": [
      "Model: \"model_15\"\n",
      "__________________________________________________________________________________________________\n",
      " Layer (type)                   Output Shape         Param #     Connected to                     \n",
      "==================================================================================================\n",
      " input_18 (InputLayer)          [(None, 40)]         0           []                               \n",
      "                                                                                                  \n",
      " embedding_17 (Embedding)       (None, 40, 200)      3249000     ['input_18[0][0]']               \n",
      "                                                                                                  \n",
      " spatial_dropout1d_16 (SpatialD  (None, 40, 200)     0           ['embedding_17[0][0]']           \n",
      " ropout1D)                                                                                        \n",
      "                                                                                                  \n",
      " bidirectional_15 (Bidirectiona  (None, 40, 512)     935936      ['spatial_dropout1d_16[0][0]']   \n",
      " l)                                                                                               \n",
      "                                                                                                  \n",
      " conv1d_45 (Conv1D)             (None, 39, 128)      131200      ['bidirectional_15[0][0]']       \n",
      "                                                                                                  \n",
      " conv1d_46 (Conv1D)             (None, 37, 128)      49280       ['conv1d_45[0][0]']              \n",
      "                                                                                                  \n",
      " conv1d_47 (Conv1D)             (None, 34, 128)      65664       ['conv1d_46[0][0]']              \n",
      "                                                                                                  \n",
      " global_average_pooling1d_9 (Gl  (None, 128)         0           ['conv1d_47[0][0]']              \n",
      " obalAveragePooling1D)                                                                            \n",
      "                                                                                                  \n",
      " global_max_pooling1d_9 (Global  (None, 128)         0           ['conv1d_47[0][0]']              \n",
      " MaxPooling1D)                                                                                    \n",
      "                                                                                                  \n",
      " concatenate_9 (Concatenate)    (None, 256)          0           ['global_average_pooling1d_9[0][0\n",
      "                                                                 ]',                              \n",
      "                                                                  'global_max_pooling1d_9[0][0]'] \n",
      "                                                                                                  \n",
      " dense_30 (Dense)               (None, 128)          32896       ['concatenate_9[0][0]']          \n",
      "                                                                                                  \n",
      " dense_31 (Dense)               (None, 3)            387         ['dense_30[0][0]']               \n",
      "                                                                                                  \n",
      "==================================================================================================\n",
      "Total params: 4,464,363\n",
      "Trainable params: 1,215,363\n",
      "Non-trainable params: 3,249,000\n",
      "__________________________________________________________________________________________________\n",
      "None\n"
     ]
    },
    {
     "data": {
      "image/png": "[encoded data removed]",
      "text/plain": [
       "<IPython.core.display.Image object>"
      ]
     },
     "execution_count": 132,
     "metadata": {},
     "output_type": "execute_result"
    }
   ],
   "source": [
    "# summarize\n",
    "print(lstm_cnn_model.summary())\n",
    "plot_model(lstm_cnn_model, show_shapes=True, to_file='model_attention.png')"
   ]
  },
  {
   "cell_type": "code",
   "execution_count": null,
   "id": "c20248a7",
   "metadata": {},
   "outputs": [],
   "source": []
  },
  {
   "cell_type": "code",
   "execution_count": 135,
   "id": "465db0ed",
   "metadata": {},
   "outputs": [
    {
     "data": {
      "image/png": "[encoded data removed]",
      "text/plain": [
       "<Figure size 720x720 with 1 Axes>"
      ]
     },
     "metadata": {
      "needs_background": "light"
     },
     "output_type": "display_data"
    },
    {
     "data": {
      "image/png": "[encoded data removed]",
      "text/plain": [
       "<Figure size 720x720 with 1 Axes>"
      ]
     },
     "metadata": {
      "needs_background": "light"
     },
     "output_type": "display_data"
    }
   ],
   "source": [
    "# Plotting Loss and Accuracy Graphs\n",
    "plt.figure(figsize=(10, 10))\n",
    "plt.plot(history.history['loss'])\n",
    "plt.plot(history.history['val_loss'])\n",
    "plt.title('Loss')\n",
    "plt.legend(['train', 'val'], loc='upper left')\n",
    "plt.show()\n",
    "\n",
    "plt.figure(figsize=(10, 10))\n",
    "plt.plot(history.history['accuracy'])\n",
    "plt.plot(history.history['val_accuracy'])\n",
    "plt.title('Accuracy | CNNBiLSTM')\n",
    "plt.legend(['train', 'val'], loc='upper left')\n",
    "plt.show()"
   ]
  },
  {
   "cell_type": "code",
   "execution_count": null,
   "id": "1fa116bc",
   "metadata": {},
   "outputs": [],
   "source": []
  },
  {
   "cell_type": "code",
   "execution_count": 136,
   "id": "f3749ea6",
   "metadata": {},
   "outputs": [
    {
     "name": "stdout",
     "output_type": "stream",
     "text": [
      "Evaluate on test data\n",
      "42/42 [==============================] - 6s 76ms/step - loss: 0.3916 - accuracy: 0.8992\n",
      "test loss, test acc: [0.39159905910491943, 0.8992424011230469]\n",
      "Generate predictions for 3 samples\n",
      "predictions shape: (3, 3)\n"
     ]
    }
   ],
   "source": [
    "# Evaluate the model on the test data using `evaluate`\n",
    "print(\"Evaluate on test data\")\n",
    "results = lstm_cnn_model.evaluate([X_test_padded], y_test, batch_size=64)\n",
    "print(\"test loss, test acc:\", results)\n",
    "\n",
    "# Generate predictions (probabilities -- the output of the last layer)\n",
    "# on new data using `predict`\n",
    "print(\"Generate predictions for 3 samples\")\n",
    "predictions = lstm_cnn_model.predict(X_test_padded[:3])\n",
    "print(\"predictions shape:\", predictions.shape)"
   ]
  },
  {
   "cell_type": "code",
   "execution_count": null,
   "id": "296631d1",
   "metadata": {},
   "outputs": [],
   "source": []
  },
  {
   "cell_type": "code",
   "execution_count": null,
   "id": "f8dc8251",
   "metadata": {},
   "outputs": [],
   "source": [
    "lstm_cnn_model.save('sentiment_model_LSTM_CNN_v.1.0.h5')"
   ]
  },
  {
   "cell_type": "code",
   "execution_count": null,
   "id": "faf4ad5c",
   "metadata": {},
   "outputs": [],
   "source": []
  },
  {
   "cell_type": "code",
   "execution_count": 139,
   "id": "97fa5b05",
   "metadata": {},
   "outputs": [
    {
     "name": "stdout",
     "output_type": "stream",
     "text": [
      "              precision    recall  f1-score   support\n",
      "\n",
      "           0       0.89      0.86      0.88       599\n",
      "           1       0.91      0.92      0.91      1073\n",
      "           2       0.89      0.90      0.90       968\n",
      "\n",
      "    accuracy                           0.90      2640\n",
      "   macro avg       0.90      0.89      0.90      2640\n",
      "weighted avg       0.90      0.90      0.90      2640\n",
      "\n"
     ]
    }
   ],
   "source": [
    "rounded_predictions = np.argmax(lstm_cnn_model.predict([X_test_padded]), axis = 1)\n",
    "rounded_labels = np.argmax(y_test, axis = 1)\n",
    "#rounded_labels[1]\n",
    "accuracy_score(rounded_predictions, rounded_labels)\n",
    "\n",
    "print(classification_report(rounded_predictions, rounded_labels))"
   ]
  },
  {
   "cell_type": "code",
   "execution_count": null,
   "id": "2542c9b4",
   "metadata": {},
   "outputs": [],
   "source": []
  },
  {
   "cell_type": "code",
   "execution_count": 140,
   "id": "06fbf29c",
   "metadata": {},
   "outputs": [
    {
     "name": "stdout",
     "output_type": "stream",
     "text": [
      "Confusion Matrix\n",
      "\n",
      "[[517  39  43]\n",
      " [ 27 982  64]\n",
      " [ 36  57 875]]\n"
     ]
    }
   ],
   "source": [
    "from sklearn.metrics import confusion_matrix\n",
    "confusion = confusion_matrix(rounded_predictions, rounded_labels)\n",
    "print('Confusion Matrix\\n')\n",
    "print(confusion)"
   ]
  },
  {
   "cell_type": "code",
   "execution_count": null,
   "id": "9350292d",
   "metadata": {},
   "outputs": [],
   "source": []
  },
  {
   "cell_type": "code",
   "execution_count": 141,
   "id": "f66c48d9",
   "metadata": {},
   "outputs": [
    {
     "data": {
      "text/plain": [
       "0.8444620158541366"
      ]
     },
     "execution_count": 141,
     "metadata": {},
     "output_type": "execute_result"
    }
   ],
   "source": [
    "from sklearn.metrics import cohen_kappa_score\n",
    "cohen_score = cohen_kappa_score(rounded_labels, rounded_predictions)\n",
    "cohen_score"
   ]
  },
  {
   "cell_type": "code",
   "execution_count": null,
   "id": "a8614f19",
   "metadata": {},
   "outputs": [],
   "source": []
  },
  {
   "cell_type": "code",
   "execution_count": null,
   "id": "0ab94376",
   "metadata": {},
   "outputs": [],
   "source": []
  }
 ],
 "metadata": {
  "kernelspec": {
   "display_name": "Python 3.7.11 ('Excell-Chatbot')",
   "language": "python",
   "name": "python3"
  },
  "language_info": {
   "codemirror_mode": {
    "name": "ipython",
    "version": 3
   },
   "file_extension": ".py",
   "mimetype": "text/x-python",
   "name": "python",
   "nbconvert_exporter": "python",
   "pygments_lexer": "ipython3",
   "version": "3.7.11"
  },
  "vscode": {
   "interpreter": {
    "hash": "71286d4ed68dafa19960edf825f0b101e8f6252ea7c055d5eee1872dd0b79431"
   }
  }
 },
 "nbformat": 4,
 "nbformat_minor": 5
}
